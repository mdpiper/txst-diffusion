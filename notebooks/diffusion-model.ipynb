{
 "cells": [
  {
   "cell_type": "markdown",
   "id": "ebd75d6b-b208-4c74-ad39-d9701768f3ba",
   "metadata": {},
   "source": [
    "# A 1D diffusion model"
   ]
  },
  {
   "cell_type": "markdown",
   "id": "4088d457-5ab4-4b35-ba24-fa3af0a943de",
   "metadata": {},
   "source": [
    "Here we develop a one-dimensional model of diffusion.\n",
    "It assumes a constant diffusivity.\n",
    "It uses a regular grid.\n",
    "It has fixed boundary conditions."
   ]
  },
  {
   "cell_type": "markdown",
   "id": "cd38ab1a-dee3-4983-b3fd-6869cfff9075",
   "metadata": {},
   "source": [
    "The diffusion equation:\n",
    "\n",
    "$$ \\frac{\\partial C}{\\partial t} = D\\frac{\\partial^2 C}{\\partial x^2} $$\n",
    "\n",
    "The discretized version of the diffusion equation that we'll solve with our model:\n",
    "\n",
    "$$ C^{t+1}_x = C^t_x + {D \\Delta t \\over \\Delta x^2} (C^t_{x+1} - 2C^t_x + C^t_{x-1}) $$\n",
    "\n",
    "This is the explicit FTCS scheme as described in Slingerland and Kump (2011). (Or see Wikipedia.)"
   ]
  },
  {
   "cell_type": "markdown",
   "id": "bb368ada-7f47-455c-9f6c-8f302a628b68",
   "metadata": {},
   "source": [
    "We will use two libraries, Numpy (for arrays) \n",
    "and Matplotlib (for plotting)\n",
    "that aren't a part of the base Python distribution."
   ]
  },
  {
   "cell_type": "code",
   "execution_count": null,
   "id": "32789c73-9912-4db5-af28-e817bf2329fb",
   "metadata": {},
   "outputs": [],
   "source": [
    "import numpy as np\n",
    "import matplotlib.pyplot as plt"
   ]
  },
  {
   "cell_type": "markdown",
   "id": "f04022f1-2e4a-46fb-ae18-0aa930564e49",
   "metadata": {},
   "source": [
    "Set two fixed model parameters, the diffusivity and the size of the model domain."
   ]
  },
  {
   "cell_type": "code",
   "execution_count": null,
   "id": "3dd02511-8aaa-479c-972b-3bfa629cf70e",
   "metadata": {},
   "outputs": [],
   "source": [
    "D = 100  # diffusivity\n",
    "Lx = 300 # domain size"
   ]
  },
  {
   "cell_type": "markdown",
   "id": "4b3fd091-1f2f-4e92-b4f5-26f9b6724438",
   "metadata": {},
   "source": [
    "Next, set up the model grid using a NumPy array."
   ]
  },
  {
   "cell_type": "code",
   "execution_count": null,
   "id": "e72a0ed8-a590-4302-bd7d-cf0501317773",
   "metadata": {},
   "outputs": [],
   "source": [
    "dx = 0.5\n",
    "x = np.arange(start=0, stop=Lx, step=dx)\n",
    "nx = len(x)"
   ]
  },
  {
   "cell_type": "code",
   "execution_count": null,
   "id": "1b2d27b1-75ed-4212-9b57-ceacd5ab0f5d",
   "metadata": {},
   "outputs": [],
   "source": [
    "whos"
   ]
  },
  {
   "cell_type": "code",
   "execution_count": null,
   "id": "9e15c644-07d8-46c6-9c28-41f6c47361a3",
   "metadata": {},
   "outputs": [],
   "source": [
    "x[0]"
   ]
  },
  {
   "cell_type": "code",
   "execution_count": null,
   "id": "8e4e7f8d-1219-4ec0-9138-220eebef6aae",
   "metadata": {},
   "outputs": [],
   "source": [
    "x[nx-1]"
   ]
  },
  {
   "cell_type": "code",
   "execution_count": null,
   "id": "4eb12ecf-67a6-4baa-8807-ccd252cc3529",
   "metadata": {},
   "outputs": [],
   "source": [
    "x[-1]"
   ]
  },
  {
   "cell_type": "code",
   "execution_count": null,
   "id": "3590a39d-06d7-432e-9d22-f4cbe0641215",
   "metadata": {},
   "outputs": [],
   "source": [
    "x[0:5]"
   ]
  },
  {
   "cell_type": "markdown",
   "id": "bc6872f8-759b-4d05-babc-f1d9396c3239",
   "metadata": {},
   "source": [
    "Set the initial concentration profile for the model.\n",
    "The concentration `C` is a step function\n",
    "with a high value on the left,\n",
    "a low value on the right,\n",
    "and the step at the center of the domain."
   ]
  },
  {
   "cell_type": "code",
   "execution_count": null,
   "id": "b2bb01a2-da03-4b85-a12f-ce3f24598b8d",
   "metadata": {},
   "outputs": [],
   "source": [
    "C = np.zeros_like(x)\n",
    "C_left = 500\n",
    "C_right = 0\n",
    "C[x <= Lx//2] = C_left\n",
    "C[x > Lx//2] = C_right"
   ]
  },
  {
   "cell_type": "markdown",
   "id": "4ac5e601-dde3-4389-8eef-43b01317a324",
   "metadata": {},
   "source": [
    "Plot the initial profile."
   ]
  },
  {
   "cell_type": "code",
   "execution_count": null,
   "id": "e6ee9a02-e1ed-4364-b87a-2505976fffa6",
   "metadata": {},
   "outputs": [],
   "source": [
    "plt.figure()\n",
    "plt.plot(x, C, \"r\")\n",
    "plt.xlabel(\"x\")\n",
    "plt.ylabel(\"C\")\n",
    "plt.title(\"Initial concentration profile\")"
   ]
  },
  {
   "cell_type": "markdown",
   "id": "2e63a80c-5a9c-40d5-88e5-a9d19d377de6",
   "metadata": {},
   "source": [
    "Set the start time of the model and the number of time steps.\n",
    "Calculate a stable time step for the model using a stability criterion."
   ]
  },
  {
   "cell_type": "code",
   "execution_count": null,
   "id": "5279ac9f-5924-4baa-af82-2298aecb95e8",
   "metadata": {},
   "outputs": [],
   "source": [
    "time = 0\n",
    "nt = 5000\n",
    "dt = 0.5 * (dx**2 / D)"
   ]
  },
  {
   "cell_type": "code",
   "execution_count": null,
   "id": "713b2638-5cc5-426f-adbe-d09ab0af3aef",
   "metadata": {},
   "outputs": [],
   "source": [
    "dt"
   ]
  },
  {
   "cell_type": "code",
   "execution_count": null,
   "id": "f808a91f-c4c3-49e7-bba3-8f1a3c6d614f",
   "metadata": {},
   "outputs": [],
   "source": [
    "z = 5"
   ]
  },
  {
   "cell_type": "code",
   "execution_count": null,
   "id": "54ae59fb-eb85-4ace-9af0-ebb7e038e592",
   "metadata": {},
   "outputs": [],
   "source": [
    "z = z + 5\n",
    "z"
   ]
  },
  {
   "cell_type": "code",
   "execution_count": null,
   "id": "a16981bd-d7e1-49cf-acdc-faff64f4d939",
   "metadata": {},
   "outputs": [],
   "source": [
    "z += 5\n",
    "z"
   ]
  },
  {
   "cell_type": "markdown",
   "id": "2958d030-17c8-417b-944b-4b47e41410de",
   "metadata": {},
   "source": [
    "Loop over the time steps of the model,\n",
    "solving the diffusion equation using the FTCS explicit scheme\n",
    "described above.\n",
    "The boundary conditions are fixed, so reset them at each time step."
   ]
  },
  {
   "cell_type": "code",
   "execution_count": null,
   "id": "cd054c30-5b6a-4078-8685-4dcb00ab332d",
   "metadata": {},
   "outputs": [],
   "source": [
    "for t in range(0, nt):\n",
    "    C += D * dt / dx**2 * (np.roll(C, -1) - 2*C + np.roll(C, 1))\n",
    "    C[0] = C_left\n",
    "    C[-1] = C_right"
   ]
  },
  {
   "cell_type": "markdown",
   "id": "fc92b38d-0546-493e-b952-27e8afea1c12",
   "metadata": {},
   "source": [
    "Plot the result."
   ]
  },
  {
   "cell_type": "code",
   "execution_count": null,
   "id": "fc2088c9-5d07-4233-b187-f4ed1d9ea82d",
   "metadata": {},
   "outputs": [],
   "source": [
    "plt.figure()\n",
    "plt.plot(x, C, \"b\")\n",
    "plt.xlabel(\"x\")\n",
    "plt.ylabel(\"C\")\n",
    "plt.title(\"Final concentration profile\")"
   ]
  },
  {
   "cell_type": "code",
   "execution_count": null,
   "id": "309499b1-71f0-47bb-892c-e4f5c66988c7",
   "metadata": {},
   "outputs": [],
   "source": [
    "z = np.arange(5)\n",
    "z"
   ]
  },
  {
   "cell_type": "code",
   "execution_count": null,
   "id": "5735f0d2-dfb7-4930-a061-0d02ef8ee934",
   "metadata": {},
   "outputs": [],
   "source": [
    "np.roll(z, -1)"
   ]
  },
  {
   "cell_type": "code",
   "execution_count": null,
   "id": "9c6e7892-6761-4f5e-a7d7-85b2610ea8f8",
   "metadata": {},
   "outputs": [],
   "source": [
    "np.roll(z, 1)"
   ]
  },
  {
   "cell_type": "code",
   "execution_count": null,
   "id": "f3686489-9465-49cb-91dd-2a6cbc939c46",
   "metadata": {},
   "outputs": [],
   "source": [
    "z + 1"
   ]
  },
  {
   "cell_type": "code",
   "execution_count": null,
   "id": "62079341-65a2-435a-9cf7-dea05167d8d3",
   "metadata": {},
   "outputs": [],
   "source": [
    "for i in range(len(z)):\n",
    "    print(z[i] + 1)"
   ]
  },
  {
   "cell_type": "code",
   "execution_count": null,
   "id": "ea2a4f30-4500-4bf8-a0a1-822f9ae50c88",
   "metadata": {},
   "outputs": [],
   "source": []
  }
 ],
 "metadata": {
  "kernelspec": {
   "display_name": "CSDMS",
   "language": "python",
   "name": "csdms"
  },
  "language_info": {
   "codemirror_mode": {
    "name": "ipython",
    "version": 3
   },
   "file_extension": ".py",
   "mimetype": "text/x-python",
   "name": "python",
   "nbconvert_exporter": "python",
   "pygments_lexer": "ipython3",
   "version": "3.12.7"
  }
 },
 "nbformat": 4,
 "nbformat_minor": 5
}
